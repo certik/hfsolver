{
 "cells": [
  {
   "cell_type": "code",
   "execution_count": null,
   "metadata": {
    "collapsed": false
   },
   "outputs": [],
   "source": [
    "%pylab inline"
   ]
  },
  {
   "cell_type": "code",
   "execution_count": null,
   "metadata": {
    "collapsed": true
   },
   "outputs": [],
   "source": [
    "D = loadtxt(\"cond.txt\")"
   ]
  },
  {
   "cell_type": "code",
   "execution_count": null,
   "metadata": {
    "collapsed": true
   },
   "outputs": [],
   "source": [
    "i = D[:, 0]\n",
    "t = D[:, 1]\n",
    "Ex = D[:, 2]\n",
    "Etot = D[:, 3]\n",
    "psi_norm = D[:, 4]\n",
    "current = D[:, 5:]"
   ]
  },
  {
   "cell_type": "code",
   "execution_count": null,
   "metadata": {
    "collapsed": false
   },
   "outputs": [],
   "source": [
    "plot(t, Ex, \"x\")\n",
    "title(\"$x$-component of electric field\")\n",
    "xlabel(\"t [a.u.]\")\n",
    "ylabel(\"$E_x$ [a.u.]\")\n",
    "show()"
   ]
  },
  {
   "cell_type": "code",
   "execution_count": null,
   "metadata": {
    "collapsed": false
   },
   "outputs": [],
   "source": [
    "plot(t, psi_norm-1)\n",
    "title(\"Norm of the wave function\")\n",
    "xlabel(\"t [a.u.]\")\n",
    "ylabel(\"$|\\psi|$\")\n",
    "show()"
   ]
  },
  {
   "cell_type": "code",
   "execution_count": null,
   "metadata": {
    "collapsed": false
   },
   "outputs": [],
   "source": [
    "plot(t, Etot)\n",
    "title(\"Total energy\")\n",
    "xlabel(\"t [a.u.]\")\n",
    "ylabel(\"$E_tot$ [a.u.]\")\n",
    "show()"
   ]
  },
  {
   "cell_type": "code",
   "execution_count": null,
   "metadata": {
    "collapsed": false
   },
   "outputs": [],
   "source": [
    "plot(t, current[:, 0], label=\"x\")\n",
    "plot(t, current[:, 1], label=\"y\")\n",
    "plot(t, current[:, 2], label=\"z\")\n",
    "legend()\n",
    "title(\"Current\")\n",
    "xlabel(\"t [a.u.]\")\n",
    "ylabel(\"Current component [a.u.]\")\n",
    "xlim([0, 40])\n",
    "savefig(\"current_3d_mult1.pdf\")\n",
    "show()"
   ]
  }
 ],
 "metadata": {
  "kernelspec": {
   "display_name": "Python 2",
   "language": "python",
   "name": "python2"
  },
  "language_info": {
   "codemirror_mode": {
    "name": "ipython",
    "version": 2
   },
   "file_extension": ".py",
   "mimetype": "text/x-python",
   "name": "python",
   "nbconvert_exporter": "python",
   "pygments_lexer": "ipython2",
   "version": "2.7.11"
  }
 },
 "nbformat": 4,
 "nbformat_minor": 0
}

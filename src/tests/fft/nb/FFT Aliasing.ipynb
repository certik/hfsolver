{
 "cells": [
  {
   "cell_type": "code",
   "execution_count": null,
   "metadata": {
    "collapsed": false
   },
   "outputs": [],
   "source": [
    "%pylab inline"
   ]
  },
  {
   "cell_type": "code",
   "execution_count": null,
   "metadata": {
    "collapsed": true
   },
   "outputs": [],
   "source": [
    "from ipywidgets import interact, interactive, fixed, interact_manual\n",
    "import ipywidgets as widgets"
   ]
  },
  {
   "cell_type": "code",
   "execution_count": null,
   "metadata": {
    "collapsed": true
   },
   "outputs": [],
   "source": [
    "from numpy.fft import fft, ifft\n",
    "\n",
    "def real_space_vectors(N, L):\n",
    "    return linspace(0, L, N+1)[:-1]\n",
    "\n",
    "def reciprocal_space_vectors(N, L):\n",
    "    G = fftfreq(N, d=1./N) * 2*pi/L\n",
    "    if N%2 == 0: G[N/2] *= -1\n",
    "    G2 = G**2\n",
    "    return G, G2\n",
    "\n",
    "def real2fourier(X):\n",
    "    return fft(X)/size(X)\n",
    "\n",
    "def fourier2real(X):\n",
    "    return ifft(X)*size(X)"
   ]
  },
  {
   "cell_type": "code",
   "execution_count": null,
   "metadata": {
    "collapsed": false
   },
   "outputs": [],
   "source": [
    "def f(N):\n",
    "    L = 2*pi\n",
    "    X = real_space_vectors(N, L)\n",
    "    G, G2 = reciprocal_space_vectors(N, L)\n",
    "\n",
    "    x = 0\n",
    "    M = 20\n",
    "    for i in range(1, M, 2):\n",
    "        x += cos(i*X) * (M-i)\n",
    "\n",
    "    y = real2fourier(x)\n",
    "    figure(figsize=(12, 4))\n",
    "    subplot(121)\n",
    "    xlim([0, L])\n",
    "    plot(X, x)\n",
    "    subplot(122)\n",
    "    plot(G, abs(y), \"o\")\n",
    "    xlim([-25, 25])\n",
    "    ylim([0, 10])"
   ]
  },
  {
   "cell_type": "code",
   "execution_count": null,
   "metadata": {
    "collapsed": false
   },
   "outputs": [],
   "source": [
    "interact(f, N=widgets.IntSlider(min=1,max=99,step=1,value=45));"
   ]
  },
  {
   "cell_type": "code",
   "execution_count": null,
   "metadata": {
    "collapsed": false
   },
   "outputs": [],
   "source": [
    "N = 20\n",
    "L = 10.\n",
    "X = real_space_vectors(N, L)\n",
    "G, G2 = reciprocal_space_vectors(N, L)\n",
    "\n",
    "x = exp(-10*(X-L/2)**2)\n",
    "\n",
    "y = real2fourier(x)\n",
    "\n",
    "y[sqrt(G2) > N/3 *2*pi/L] = 0\n",
    "xx = fourier2real(y).real\n",
    "\n",
    "figure(figsize=(12, 4))\n",
    "subplot(121)\n",
    "xlim([0, L])\n",
    "plot(X, x)\n",
    "plot(X, xx.real, \"o\")\n",
    "subplot(122)\n",
    "plot(G, abs(y), \"o\")\n",
    "xlim([-20, 20])\n",
    "ylim([0, 0.06])\n",
    "\n",
    "#N = 100\n",
    "#L = 10.\n",
    "#X = real_space_vectors(N, L)\n",
    "#G, G2 = reciprocal_space_vectors(N, L)\n",
    "\n",
    "#x = exp(-10*(X-L/2)**2)\n",
    "x = xx**2\n",
    "\n",
    "y = real2fourier(x)\n",
    "subplot(121)\n",
    "plot(X, x)\n",
    "subplot(122)\n",
    "plot(G, abs(y), \"o\")\n",
    "\n",
    "V = y[:]\n",
    "V[1:] /= G2[1:]\n",
    "V[0] = 0\n",
    "plot(G, abs(y), \"o\")\n",
    "E = sum(V*y).real\n",
    "E_ref = 2.15122296713963594e-02\n",
    "print \"%.2e\" % abs(E-E_ref)"
   ]
  },
  {
   "cell_type": "code",
   "execution_count": null,
   "metadata": {
    "collapsed": false
   },
   "outputs": [],
   "source": [
    "D = []\n",
    "E_ref = 2.15122296713963594e-02\n",
    "E_ref = 0.01440729580367173\n",
    "for N in range(4, 300, 2):\n",
    "    L = 10.\n",
    "    X = real_space_vectors(N, L)\n",
    "    G, G2 = reciprocal_space_vectors(N, L)\n",
    "\n",
    "    psi = exp(-10*(X-L/2)**2)\n",
    "    psiG = real2fourier(psi)\n",
    "\n",
    "    psiG_cut = psiG[:]\n",
    "    psiG_cut[sqrt(G2) > N/4. *2*pi/L] = 0\n",
    "    psi_cut = fourier2real(psiG_cut)\n",
    "    \n",
    "    n = psi**3\n",
    "    n_cut = psi_cut**3\n",
    "    \n",
    "    nG = real2fourier(n)\n",
    "    nG_cut = real2fourier(n_cut)\n",
    "    \n",
    "    VG = nG[:]\n",
    "    VG[0] = 0; VG[1:] /= G2[1:]\n",
    "    E = sum(VG*nG).real\n",
    "    VG_cut = nG_cut[:]\n",
    "    VG_cut[0] = 0; VG_cut[1:] /= G2[1:]\n",
    "    E_cut = sum(VG_cut*nG_cut).real\n",
    "    #print N, \"%.2e\" % abs(E-E_ref), \"%.2e\" % abs(E_cut-E_ref)\n",
    "    D.append([N, E, E_cut])\n",
    "    \n",
    "D = array(D)\n",
    "semilogy(D[:, 0], abs(D[:,1]-E_ref), label=\"no cut\")\n",
    "semilogy(D[:, 0], abs(D[:,2]-E_ref), label=\"cut\")\n",
    "semilogy(D[:, 0]/2, abs(D[:,2]-E_ref), label=\"cut, plot N/2\")\n",
    "legend()\n",
    "grid()\n",
    "xlim([0, 200])\n",
    "show()"
   ]
  }
 ],
 "metadata": {
  "kernelspec": {
   "display_name": "Python 2",
   "language": "python",
   "name": "python2"
  },
  "language_info": {
   "codemirror_mode": {
    "name": "ipython",
    "version": 2
   },
   "file_extension": ".py",
   "mimetype": "text/x-python",
   "name": "python",
   "nbconvert_exporter": "python",
   "pygments_lexer": "ipython2",
   "version": "2.7.12"
  },
  "widgets": {
   "state": {
    "1426127187344a44a497b89744d1138f": {
     "views": [
      {
       "cell_index": 4
      }
     ]
    }
   },
   "version": "1.2.0"
  }
 },
 "nbformat": 4,
 "nbformat_minor": 1
}
